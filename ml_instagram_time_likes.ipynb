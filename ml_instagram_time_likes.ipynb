{
 "cells": [
  {
   "cell_type": "code",
   "execution_count": null,
   "id": "965ffa46",
   "metadata": {
    "execution": {
     "iopub.execute_input": "2023-05-21T19:09:51.482850Z",
     "iopub.status.busy": "2023-05-21T19:09:51.481719Z",
     "iopub.status.idle": "2023-05-21T19:09:54.075693Z",
     "shell.execute_reply": "2023-05-21T19:09:54.074824Z"
    },
    "id": "965ffa46",
    "papermill": {
     "duration": 2.607145,
     "end_time": "2023-05-21T19:09:54.078215",
     "exception": false,
     "start_time": "2023-05-21T19:09:51.471070",
     "status": "completed"
    },
    "tags": []
   },
   "outputs": [],
   "source": [
    "## Import the necessary libraries:-\n",
    "\n",
    "import pandas as pd\n",
    "import numpy as np\n",
    "from sklearn.model_selection import train_test_split\n",
    "from sklearn.linear_model import LinearRegression\n",
    "from sklearn.metrics import mean_squared_error\n",
    "from sklearn.preprocessing import OneHotEncoder\n",
    "import re\n",
    "import matplotlib.pyplot as plt\n",
    "import seaborn as sns\n",
    "import plotly.express as px\n",
    "from wordcloud import WordCloud, STOPWORDS, ImageColorGenerator\n",
    "import warnings\n",
    "warnings.filterwarnings('ignore')\n"
   ]
  },
  {
   "cell_type": "code",
   "execution_count": 4,
   "id": "b3ea7c5d",
   "metadata": {
    "execution": {
     "iopub.execute_input": "2023-05-21T19:09:54.099090Z",
     "iopub.status.busy": "2023-05-21T19:09:54.098647Z",
     "iopub.status.idle": "2023-05-21T19:09:54.127514Z",
     "shell.execute_reply": "2023-05-21T19:09:54.126397Z"
    },
    "id": "b3ea7c5d",
    "papermill": {
     "duration": 0.042662,
     "end_time": "2023-05-21T19:09:54.130479",
     "exception": false,
     "start_time": "2023-05-21T19:09:54.087817",
     "status": "completed"
    },
    "tags": []
   },
   "outputs": [
    {
     "data": {
      "text/html": [
       "<div>\n",
       "<style scoped>\n",
       "    .dataframe tbody tr th:only-of-type {\n",
       "        vertical-align: middle;\n",
       "    }\n",
       "\n",
       "    .dataframe tbody tr th {\n",
       "        vertical-align: top;\n",
       "    }\n",
       "\n",
       "    .dataframe thead th {\n",
       "        text-align: right;\n",
       "    }\n",
       "</style>\n",
       "<table border=\"1\" class=\"dataframe\">\n",
       "  <thead>\n",
       "    <tr style=\"text-align: right;\">\n",
       "      <th></th>\n",
       "      <th>Unnamed: 0</th>\n",
       "      <th>S.No</th>\n",
       "      <th>USERNAME</th>\n",
       "      <th>Caption</th>\n",
       "      <th>Followers</th>\n",
       "      <th>Hashtags</th>\n",
       "      <th>Time since posted</th>\n",
       "      <th>Likes</th>\n",
       "    </tr>\n",
       "  </thead>\n",
       "  <tbody>\n",
       "    <tr>\n",
       "      <th>0</th>\n",
       "      <td>0</td>\n",
       "      <td>1</td>\n",
       "      <td>mikequindazzi</td>\n",
       "      <td>Who are #DataScientist and what do they do? &gt;&gt;...</td>\n",
       "      <td>1600</td>\n",
       "      <td>#MachineLearning #AI #DataAnalytics #DataScien...</td>\n",
       "      <td>11 hours</td>\n",
       "      <td>139</td>\n",
       "    </tr>\n",
       "    <tr>\n",
       "      <th>1</th>\n",
       "      <td>1</td>\n",
       "      <td>2</td>\n",
       "      <td>drgorillapaints</td>\n",
       "      <td>We all know where it’s going. We just have to ...</td>\n",
       "      <td>880</td>\n",
       "      <td>#deck .#mac #macintosh#sayhello #apple #steve...</td>\n",
       "      <td>2 hours</td>\n",
       "      <td>23</td>\n",
       "    </tr>\n",
       "    <tr>\n",
       "      <th>2</th>\n",
       "      <td>2</td>\n",
       "      <td>3</td>\n",
       "      <td>aitrading_official</td>\n",
       "      <td>Alexander Barinov: 4 years as CFO in multinati...</td>\n",
       "      <td>255</td>\n",
       "      <td>#whoiswho #aitrading #ai #aitradingteam#instat...</td>\n",
       "      <td>2 hours</td>\n",
       "      <td>25</td>\n",
       "    </tr>\n",
       "    <tr>\n",
       "      <th>3</th>\n",
       "      <td>3</td>\n",
       "      <td>4</td>\n",
       "      <td>opensourcedworkplace</td>\n",
       "      <td>sfad</td>\n",
       "      <td>340</td>\n",
       "      <td>#iot #cre#workplace #CDO #bigdata #technology#...</td>\n",
       "      <td>3 hours</td>\n",
       "      <td>49</td>\n",
       "    </tr>\n",
       "    <tr>\n",
       "      <th>4</th>\n",
       "      <td>4</td>\n",
       "      <td>5</td>\n",
       "      <td>crea.vision</td>\n",
       "      <td>Ever missed a call while your phone was chargi...</td>\n",
       "      <td>304</td>\n",
       "      <td>#instamachinelearning #instabigdata#instamarke...</td>\n",
       "      <td>3 hours</td>\n",
       "      <td>30</td>\n",
       "    </tr>\n",
       "  </tbody>\n",
       "</table>\n",
       "</div>"
      ],
      "text/plain": [
       "   Unnamed: 0  S.No              USERNAME  \\\n",
       "0           0     1         mikequindazzi   \n",
       "1           1     2       drgorillapaints   \n",
       "2           2     3    aitrading_official   \n",
       "3           3     4  opensourcedworkplace   \n",
       "4           4     5           crea.vision   \n",
       "\n",
       "                                             Caption  Followers  \\\n",
       "0  Who are #DataScientist and what do they do? >>...       1600   \n",
       "1  We all know where it’s going. We just have to ...        880   \n",
       "2  Alexander Barinov: 4 years as CFO in multinati...        255   \n",
       "3                                               sfad        340   \n",
       "4  Ever missed a call while your phone was chargi...        304   \n",
       "\n",
       "                                            Hashtags Time since posted  Likes  \n",
       "0  #MachineLearning #AI #DataAnalytics #DataScien...          11 hours    139  \n",
       "1   #deck .#mac #macintosh#sayhello #apple #steve...           2 hours     23  \n",
       "2  #whoiswho #aitrading #ai #aitradingteam#instat...           2 hours     25  \n",
       "3  #iot #cre#workplace #CDO #bigdata #technology#...           3 hours     49  \n",
       "4  #instamachinelearning #instabigdata#instamarke...           3 hours     30  "
      ]
     },
     "execution_count": 4,
     "metadata": {},
     "output_type": "execute_result"
    }
   ],
   "source": [
    "## Load the dataset using pandas:\n",
    "import pandas as pd\n",
    "import os\n",
    "\n",
    "# Update the directory path\n",
    "directory_path = 'C:\\\\Users\\\\Komal'\n",
    "file_name = 'instagram_reach.csv'\n",
    "file_path = os.path.join(directory_path, file_name)\n",
    "\n",
    "# Read the CSV file into a DataFrame\n",
    "data = pd.read_csv(file_path)\n",
    "\n",
    "# Display the first few rows of the DataFrame to verify the data\n",
    "data.head()\n"
   ]
  },
  {
   "cell_type": "code",
   "execution_count": null,
   "id": "93e96fc0",
   "metadata": {
    "colab": {
     "base_uri": "https://localhost:8080/",
     "height": 337
    },
    "execution": {
     "iopub.execute_input": "2023-05-21T19:09:54.151751Z",
     "iopub.status.busy": "2023-05-21T19:09:54.150962Z",
     "iopub.status.idle": "2023-05-21T19:09:54.187602Z",
     "shell.execute_reply": "2023-05-21T19:09:54.186639Z"
    },
    "id": "93e96fc0",
    "outputId": "9faf489a-c40a-4885-c422-15ef9bf19d32",
    "papermill": {
     "duration": 0.050095,
     "end_time": "2023-05-21T19:09:54.190089",
     "exception": false,
     "start_time": "2023-05-21T19:09:54.139994",
     "status": "completed"
    },
    "tags": []
   },
   "outputs": [],
   "source": [
    "## Checking top 5 rows\n",
    "data.head()"
   ]
  },
  {
   "cell_type": "code",
   "execution_count": null,
   "id": "fcb51024",
   "metadata": {
    "colab": {
     "base_uri": "https://localhost:8080/"
    },
    "execution": {
     "iopub.execute_input": "2023-05-21T19:09:54.212769Z",
     "iopub.status.busy": "2023-05-21T19:09:54.211966Z",
     "iopub.status.idle": "2023-05-21T19:09:54.218744Z",
     "shell.execute_reply": "2023-05-21T19:09:54.217826Z"
    },
    "id": "fcb51024",
    "outputId": "072415a3-582c-463f-85da-b65aa8445fcc",
    "papermill": {
     "duration": 0.021259,
     "end_time": "2023-05-21T19:09:54.221054",
     "exception": false,
     "start_time": "2023-05-21T19:09:54.199795",
     "status": "completed"
    },
    "tags": []
   },
   "outputs": [],
   "source": [
    "## Checking Rows & Columns Availabale in Dataset\n",
    "data.shape"
   ]
  },
  {
   "cell_type": "code",
   "execution_count": null,
   "id": "e0fd8a8d",
   "metadata": {
    "colab": {
     "base_uri": "https://localhost:8080/"
    },
    "execution": {
     "iopub.execute_input": "2023-05-21T19:09:54.243493Z",
     "iopub.status.busy": "2023-05-21T19:09:54.242675Z",
     "iopub.status.idle": "2023-05-21T19:09:54.270867Z",
     "shell.execute_reply": "2023-05-21T19:09:54.269632Z"
    },
    "id": "e0fd8a8d",
    "outputId": "5ff17d42-7ed6-44b8-9823-e0c43023347b",
    "papermill": {
     "duration": 0.042401,
     "end_time": "2023-05-21T19:09:54.273450",
     "exception": false,
     "start_time": "2023-05-21T19:09:54.231049",
     "status": "completed"
    },
    "tags": []
   },
   "outputs": [],
   "source": [
    "## Checking Details Information related with Dataset\n",
    "data.info()"
   ]
  },
  {
   "cell_type": "code",
   "execution_count": null,
   "id": "f90f90e3",
   "metadata": {
    "colab": {
     "base_uri": "https://localhost:8080/"
    },
    "execution": {
     "iopub.execute_input": "2023-05-21T19:09:54.296264Z",
     "iopub.status.busy": "2023-05-21T19:09:54.295849Z",
     "iopub.status.idle": "2023-05-21T19:09:54.304423Z",
     "shell.execute_reply": "2023-05-21T19:09:54.303221Z"
    },
    "id": "f90f90e3",
    "outputId": "d3e78c09-42bc-43db-95e9-81b113db2b55",
    "papermill": {
     "duration": 0.022985,
     "end_time": "2023-05-21T19:09:54.306840",
     "exception": false,
     "start_time": "2023-05-21T19:09:54.283855",
     "status": "completed"
    },
    "tags": []
   },
   "outputs": [],
   "source": [
    "## Checking Null Values\n",
    "data.isnull().sum()"
   ]
  },
  {
   "cell_type": "code",
   "execution_count": null,
   "id": "dfb46f4d",
   "metadata": {
    "execution": {
     "iopub.execute_input": "2023-05-21T19:09:54.328871Z",
     "iopub.status.busy": "2023-05-21T19:09:54.328486Z",
     "iopub.status.idle": "2023-05-21T19:09:54.336644Z",
     "shell.execute_reply": "2023-05-21T19:09:54.335347Z"
    },
    "id": "dfb46f4d",
    "papermill": {
     "duration": 0.022668,
     "end_time": "2023-05-21T19:09:54.339471",
     "exception": false,
     "start_time": "2023-05-21T19:09:54.316803",
     "status": "completed"
    },
    "tags": []
   },
   "outputs": [],
   "source": [
    "## Droping Null Value\n",
    "data = data.dropna()"
   ]
  },
  {
   "cell_type": "code",
   "execution_count": null,
   "id": "ed81ad69",
   "metadata": {
    "colab": {
     "base_uri": "https://localhost:8080/"
    },
    "execution": {
     "iopub.execute_input": "2023-05-21T19:09:54.361648Z",
     "iopub.status.busy": "2023-05-21T19:09:54.361248Z",
     "iopub.status.idle": "2023-05-21T19:09:54.370106Z",
     "shell.execute_reply": "2023-05-21T19:09:54.369280Z"
    },
    "id": "ed81ad69",
    "outputId": "592c4fb2-c8ff-4848-abb9-f771f1947ba0",
    "papermill": {
     "duration": 0.023001,
     "end_time": "2023-05-21T19:09:54.372684",
     "exception": false,
     "start_time": "2023-05-21T19:09:54.349683",
     "status": "completed"
    },
    "tags": []
   },
   "outputs": [],
   "source": [
    "## Checking Again Null Values whether Null Value Drop or Not\n",
    "data.isnull().sum()"
   ]
  },
  {
   "cell_type": "code",
   "execution_count": null,
   "id": "00e247f5",
   "metadata": {
    "colab": {
     "base_uri": "https://localhost:8080/"
    },
    "execution": {
     "iopub.execute_input": "2023-05-21T19:09:54.395675Z",
     "iopub.status.busy": "2023-05-21T19:09:54.395272Z",
     "iopub.status.idle": "2023-05-21T19:09:54.403340Z",
     "shell.execute_reply": "2023-05-21T19:09:54.402087Z"
    },
    "id": "00e247f5",
    "outputId": "63798335-54d9-4c29-ae2d-919bf99eed7d",
    "papermill": {
     "duration": 0.022754,
     "end_time": "2023-05-21T19:09:54.405859",
     "exception": false,
     "start_time": "2023-05-21T19:09:54.383105",
     "status": "completed"
    },
    "tags": []
   },
   "outputs": [],
   "source": [
    "## Checking All Columns name present in dataset\n",
    "data.columns"
   ]
  },
  {
   "cell_type": "code",
   "execution_count": null,
   "id": "2db98e0b",
   "metadata": {
    "colab": {
     "base_uri": "https://localhost:8080/",
     "height": 208
    },
    "execution": {
     "iopub.execute_input": "2023-05-21T19:09:54.429572Z",
     "iopub.status.busy": "2023-05-21T19:09:54.428790Z",
     "iopub.status.idle": "2023-05-21T19:09:54.441408Z",
     "shell.execute_reply": "2023-05-21T19:09:54.440328Z"
    },
    "id": "2db98e0b",
    "outputId": "a3a974f3-56bc-470e-e00e-b4fbfc02d19e",
    "papermill": {
     "duration": 0.027333,
     "end_time": "2023-05-21T19:09:54.443865",
     "exception": false,
     "start_time": "2023-05-21T19:09:54.416532",
     "status": "completed"
    },
    "tags": []
   },
   "outputs": [],
   "source": [
    "## checking top 2 rows of dataset\n",
    "data.head(2)"
   ]
  },
  {
   "cell_type": "code",
   "execution_count": null,
   "id": "b090fbd9",
   "metadata": {
    "execution": {
     "iopub.execute_input": "2023-05-21T19:09:54.467366Z",
     "iopub.status.busy": "2023-05-21T19:09:54.466854Z",
     "iopub.status.idle": "2023-05-21T19:09:54.473438Z",
     "shell.execute_reply": "2023-05-21T19:09:54.472288Z"
    },
    "id": "b090fbd9",
    "papermill": {
     "duration": 0.021181,
     "end_time": "2023-05-21T19:09:54.475721",
     "exception": false,
     "start_time": "2023-05-21T19:09:54.454540",
     "status": "completed"
    },
    "tags": []
   },
   "outputs": [],
   "source": [
    "# Remove unnecessary columns\n",
    "data= data.drop(['Unnamed: 0', 'S.No'], axis=1)"
   ]
  },
  {
   "cell_type": "code",
   "execution_count": null,
   "id": "23c72dc7",
   "metadata": {
    "colab": {
     "base_uri": "https://localhost:8080/"
    },
    "execution": {
     "iopub.execute_input": "2023-05-21T19:09:54.499100Z",
     "iopub.status.busy": "2023-05-21T19:09:54.498682Z",
     "iopub.status.idle": "2023-05-21T19:09:54.505688Z",
     "shell.execute_reply": "2023-05-21T19:09:54.504605Z"
    },
    "id": "23c72dc7",
    "outputId": "ba29ac40-83f8-438b-89f4-f5e2b4a9fadf",
    "papermill": {
     "duration": 0.021407,
     "end_time": "2023-05-21T19:09:54.508103",
     "exception": false,
     "start_time": "2023-05-21T19:09:54.486696",
     "status": "completed"
    },
    "tags": []
   },
   "outputs": [],
   "source": [
    "## Checking All Columns name present in Dataset\n",
    "data.columns"
   ]
  },
  {
   "cell_type": "code",
   "execution_count": null,
   "id": "af29eb38",
   "metadata": {
    "colab": {
     "base_uri": "https://localhost:8080/",
     "height": 187
    },
    "execution": {
     "iopub.execute_input": "2023-05-21T19:09:54.532275Z",
     "iopub.status.busy": "2023-05-21T19:09:54.531865Z",
     "iopub.status.idle": "2023-05-21T19:09:54.544257Z",
     "shell.execute_reply": "2023-05-21T19:09:54.543322Z"
    },
    "id": "af29eb38",
    "outputId": "f9d61bda-a27b-41d7-dc2b-6c79301a3f18",
    "papermill": {
     "duration": 0.027488,
     "end_time": "2023-05-21T19:09:54.546438",
     "exception": false,
     "start_time": "2023-05-21T19:09:54.518950",
     "status": "completed"
    },
    "tags": []
   },
   "outputs": [],
   "source": [
    "## Checking top 3 rows of dataset After droping unnecessary columns\n",
    "data.head(3)"
   ]
  },
  {
   "cell_type": "markdown",
   "id": "9a82a33c",
   "metadata": {
    "id": "9a82a33c",
    "papermill": {
     "duration": 0.011373,
     "end_time": "2023-05-21T19:09:54.568977",
     "exception": false,
     "start_time": "2023-05-21T19:09:54.557604",
     "status": "completed"
    },
    "tags": []
   },
   "source": [
    "## Doing EDA and Analyzing Instagram Reach"
   ]
  },
  {
   "cell_type": "code",
   "execution_count": null,
   "id": "c106c8df",
   "metadata": {
    "colab": {
     "base_uri": "https://localhost:8080/",
     "height": 735
    },
    "execution": {
     "iopub.execute_input": "2023-05-21T19:09:54.593656Z",
     "iopub.status.busy": "2023-05-21T19:09:54.593251Z",
     "iopub.status.idle": "2023-05-21T19:09:54.974926Z",
     "shell.execute_reply": "2023-05-21T19:09:54.973799Z"
    },
    "id": "c106c8df",
    "outputId": "96bb3b96-434e-462f-8d9a-7db462759df4",
    "papermill": {
     "duration": 0.397637,
     "end_time": "2023-05-21T19:09:54.977843",
     "exception": false,
     "start_time": "2023-05-21T19:09:54.580206",
     "status": "completed"
    },
    "tags": []
   },
   "outputs": [],
   "source": [
    "## Distribution of Impressions From Followers\n",
    "\n",
    "plt.figure(figsize=(10, 8))\n",
    "plt.style.use('fivethirtyeight')\n",
    "plt.title(\"Distribution of Impressions From Followers\")\n",
    "sns.distplot(data['Followers'])\n",
    "plt.show()\n"
   ]
  },
  {
   "cell_type": "code",
   "execution_count": null,
   "id": "d1099a2a",
   "metadata": {
    "colab": {
     "base_uri": "https://localhost:8080/",
     "height": 767
    },
    "execution": {
     "iopub.execute_input": "2023-05-21T19:09:55.003449Z",
     "iopub.status.busy": "2023-05-21T19:09:55.003060Z",
     "iopub.status.idle": "2023-05-21T19:09:55.366439Z",
     "shell.execute_reply": "2023-05-21T19:09:55.364976Z"
    },
    "id": "d1099a2a",
    "outputId": "26986a2a-dc14-490b-e783-fccaf8ce92e3",
    "papermill": {
     "duration": 0.380616,
     "end_time": "2023-05-21T19:09:55.370317",
     "exception": false,
     "start_time": "2023-05-21T19:09:54.989701",
     "status": "completed"
    },
    "tags": []
   },
   "outputs": [],
   "source": [
    "## Distribution of Impressions From Likes\n",
    "\n",
    "plt.figure(figsize=(10, 8))\n",
    "plt.title(\"Distribution of Impressions From Likes\")\n",
    "sns.distplot(data['Likes'])\n",
    "plt.show()\n"
   ]
  },
  {
   "cell_type": "code",
   "execution_count": null,
   "id": "7c396332",
   "metadata": {
    "colab": {
     "base_uri": "https://localhost:8080/",
     "height": 542
    },
    "execution": {
     "iopub.execute_input": "2023-05-21T19:09:55.398117Z",
     "iopub.status.busy": "2023-05-21T19:09:55.397364Z",
     "iopub.status.idle": "2023-05-21T19:09:57.344055Z",
     "shell.execute_reply": "2023-05-21T19:09:57.343193Z"
    },
    "id": "7c396332",
    "outputId": "1754875b-2d7a-4538-82b0-89c0ab7b4871",
    "papermill": {
     "duration": 1.962956,
     "end_time": "2023-05-21T19:09:57.346236",
     "exception": false,
     "start_time": "2023-05-21T19:09:55.383280",
     "status": "completed"
    },
    "tags": []
   },
   "outputs": [],
   "source": [
    "## Relation between Likes and Followers\n",
    "\n",
    "followers = data[\"Followers\"].sum()\n",
    "likes = data[\"Likes\"].sum()\n",
    "\n",
    "labels = ['Followers', 'Likes']\n",
    "values = [followers, likes]\n",
    "\n",
    "fig = px.pie(data, values=values, names=labels,\n",
    "             title='Impressions on Instagram Posts From Various Sources', hole=0.5)\n",
    "fig.show()\n"
   ]
  },
  {
   "cell_type": "code",
   "execution_count": null,
   "id": "b98ffb89",
   "metadata": {
    "colab": {
     "base_uri": "https://localhost:8080/",
     "height": 405
    },
    "execution": {
     "iopub.execute_input": "2023-05-21T19:09:57.375534Z",
     "iopub.status.busy": "2023-05-21T19:09:57.374812Z",
     "iopub.status.idle": "2023-05-21T19:09:57.832660Z",
     "shell.execute_reply": "2023-05-21T19:09:57.831656Z"
    },
    "id": "b98ffb89",
    "outputId": "a9f779e5-603c-41d8-ae8b-84c81176bd70",
    "papermill": {
     "duration": 0.476959,
     "end_time": "2023-05-21T19:09:57.837243",
     "exception": false,
     "start_time": "2023-05-21T19:09:57.360284",
     "status": "completed"
    },
    "tags": []
   },
   "outputs": [],
   "source": [
    "## Plotting Word-Cloud for Hashtag Related Data\n",
    "\n",
    "text = \" \".join(i for i in data.Hashtags)\n",
    "stopwords = set(STOPWORDS)\n",
    "wordcloud = WordCloud(stopwords=stopwords, background_color=\"white\").generate(text)\n",
    "plt.style.use('classic')\n",
    "plt.figure( figsize=(12,10))\n",
    "plt.imshow(wordcloud, interpolation='bilinear')\n",
    "plt.axis(\"off\")\n",
    "plt.show()"
   ]
  },
  {
   "cell_type": "code",
   "execution_count": null,
   "id": "6d9e4ad4",
   "metadata": {
    "colab": {
     "base_uri": "https://localhost:8080/",
     "height": 542
    },
    "execution": {
     "iopub.execute_input": "2023-05-21T19:09:57.875244Z",
     "iopub.status.busy": "2023-05-21T19:09:57.874013Z",
     "iopub.status.idle": "2023-05-21T19:09:59.768466Z",
     "shell.execute_reply": "2023-05-21T19:09:59.767555Z"
    },
    "id": "6d9e4ad4",
    "outputId": "744cd545-0690-461f-8546-cda259ff4fc3",
    "papermill": {
     "duration": 1.916187,
     "end_time": "2023-05-21T19:09:59.770925",
     "exception": false,
     "start_time": "2023-05-21T19:09:57.854738",
     "status": "completed"
    },
    "tags": []
   },
   "outputs": [],
   "source": [
    "## Plotting Scatter-plot for showing Relationship Between Likes and Followers\n",
    "\n",
    "figure = px.scatter(data_frame = data, x=\"Likes\",\n",
    "                    y=\"Followers\", trendline=\"ols\",\n",
    "                    title = \"Relationship Between Likes and Followers\")\n",
    "figure.show()"
   ]
  },
  {
   "cell_type": "code",
   "execution_count": null,
   "id": "8df1d064",
   "metadata": {
    "execution": {
     "iopub.execute_input": "2023-05-21T19:09:59.809994Z",
     "iopub.status.busy": "2023-05-21T19:09:59.809198Z",
     "iopub.status.idle": "2023-05-21T19:09:59.814413Z",
     "shell.execute_reply": "2023-05-21T19:09:59.813641Z"
    },
    "id": "8df1d064",
    "papermill": {
     "duration": 0.026976,
     "end_time": "2023-05-21T19:09:59.816740",
     "exception": false,
     "start_time": "2023-05-21T19:09:59.789764",
     "status": "completed"
    },
    "tags": []
   },
   "outputs": [],
   "source": [
    "# Select the relevant features and target variables\n",
    "\n",
    "features = ['USERNAME', 'Caption', 'Hashtags', 'Followers']\n",
    "target_likes = 'Likes'\n",
    "target_time_since_posted = 'Time since posted'\n"
   ]
  },
  {
   "cell_type": "code",
   "execution_count": null,
   "id": "90dfb348",
   "metadata": {
    "execution": {
     "iopub.execute_input": "2023-05-21T19:09:59.855278Z",
     "iopub.status.busy": "2023-05-21T19:09:59.854427Z",
     "iopub.status.idle": "2023-05-21T19:09:59.863689Z",
     "shell.execute_reply": "2023-05-21T19:09:59.862815Z"
    },
    "id": "90dfb348",
    "papermill": {
     "duration": 0.031594,
     "end_time": "2023-05-21T19:09:59.866189",
     "exception": false,
     "start_time": "2023-05-21T19:09:59.834595",
     "status": "completed"
    },
    "tags": []
   },
   "outputs": [],
   "source": [
    "# Split the data into training and testing sets\n",
    "\n",
    "X = data[features]\n",
    "y_likes = data[target_likes]\n",
    "y_time_since_posted = data[target_time_since_posted]\n",
    "X_train, X_test, y_likes_train, y_likes_test, y_time_since_posted_train, y_time_since_posted_test = train_test_split(X, y_likes, y_time_since_posted, test_size=0.2, random_state=42)\n"
   ]
  },
  {
   "cell_type": "code",
   "execution_count": null,
   "id": "cbfcbe9f",
   "metadata": {
    "execution": {
     "iopub.execute_input": "2023-05-21T19:09:59.904319Z",
     "iopub.status.busy": "2023-05-21T19:09:59.903926Z",
     "iopub.status.idle": "2023-05-21T19:09:59.919937Z",
     "shell.execute_reply": "2023-05-21T19:09:59.918837Z"
    },
    "id": "cbfcbe9f",
    "papermill": {
     "duration": 0.038548,
     "end_time": "2023-05-21T19:09:59.922837",
     "exception": false,
     "start_time": "2023-05-21T19:09:59.884289",
     "status": "completed"
    },
    "tags": []
   },
   "outputs": [],
   "source": [
    "# Preprocess the text features using one-hot encoding\n",
    "encoder = OneHotEncoder(sparse=False, handle_unknown='ignore')\n",
    "X_train_encoded = encoder.fit_transform(X_train)\n",
    "X_test_encoded = encoder.transform(X_test)\n"
   ]
  },
  {
   "cell_type": "markdown",
   "id": "262f9cca",
   "metadata": {
    "id": "262f9cca",
    "papermill": {
     "duration": 0.017621,
     "end_time": "2023-05-21T19:09:59.959071",
     "exception": false,
     "start_time": "2023-05-21T19:09:59.941450",
     "status": "completed"
    },
    "tags": []
   },
   "source": [
    "## Train a model to predict the number of likes:"
   ]
  },
  {
   "cell_type": "code",
   "execution_count": null,
   "id": "8b52485d",
   "metadata": {
    "colab": {
     "base_uri": "https://localhost:8080/"
    },
    "execution": {
     "iopub.execute_input": "2023-05-21T19:09:59.996669Z",
     "iopub.status.busy": "2023-05-21T19:09:59.996234Z",
     "iopub.status.idle": "2023-05-21T19:10:00.027258Z",
     "shell.execute_reply": "2023-05-21T19:10:00.025722Z"
    },
    "id": "8b52485d",
    "outputId": "17f97169-6e81-4fdb-b492-9905280aed31",
    "papermill": {
     "duration": 0.054452,
     "end_time": "2023-05-21T19:10:00.031369",
     "exception": false,
     "start_time": "2023-05-21T19:09:59.976917",
     "status": "completed"
    },
    "tags": []
   },
   "outputs": [],
   "source": [
    "# Train a model to predict the number of likes\n",
    "likes_model = LinearRegression()\n",
    "likes_model.fit(X_train_encoded, y_likes_train)\n",
    "likes_predictions = likes_model.predict(X_test_encoded)\n",
    "likes_mse = mean_squared_error(y_likes_test, likes_predictions)\n",
    "print(\"Mean Squared Error (Likes):\", likes_mse)"
   ]
  },
  {
   "cell_type": "markdown",
   "id": "e1cddb62",
   "metadata": {
    "id": "e1cddb62",
    "papermill": {
     "duration": 0.036424,
     "end_time": "2023-05-21T19:10:00.104179",
     "exception": false,
     "start_time": "2023-05-21T19:10:00.067755",
     "status": "completed"
    },
    "tags": []
   },
   "source": [
    "## Train a model to predict the time since posted"
   ]
  },
  {
   "cell_type": "code",
   "execution_count": null,
   "id": "e620a00f",
   "metadata": {
    "execution": {
     "iopub.execute_input": "2023-05-21T19:10:00.159009Z",
     "iopub.status.busy": "2023-05-21T19:10:00.158612Z",
     "iopub.status.idle": "2023-05-21T19:10:00.163927Z",
     "shell.execute_reply": "2023-05-21T19:10:00.163069Z"
    },
    "id": "e620a00f",
    "papermill": {
     "duration": 0.027165,
     "end_time": "2023-05-21T19:10:00.166190",
     "exception": false,
     "start_time": "2023-05-21T19:10:00.139025",
     "status": "completed"
    },
    "tags": []
   },
   "outputs": [],
   "source": [
    "# Preprocess the time since posted variable\n",
    "def extract_numerical_value(time_string):\n",
    "    numerical_value = re.findall(r'\\d+', time_string)[0]\n",
    "    return int(numerical_value)"
   ]
  },
  {
   "cell_type": "code",
   "execution_count": null,
   "id": "1a79302c",
   "metadata": {
    "execution": {
     "iopub.execute_input": "2023-05-21T19:10:00.205720Z",
     "iopub.status.busy": "2023-05-21T19:10:00.205298Z",
     "iopub.status.idle": "2023-05-21T19:10:00.211793Z",
     "shell.execute_reply": "2023-05-21T19:10:00.210376Z"
    },
    "id": "1a79302c",
    "papermill": {
     "duration": 0.029445,
     "end_time": "2023-05-21T19:10:00.214124",
     "exception": false,
     "start_time": "2023-05-21T19:10:00.184679",
     "status": "completed"
    },
    "tags": []
   },
   "outputs": [],
   "source": [
    "y_time_since_posted_train = y_time_since_posted_train.apply(extract_numerical_value)\n",
    "y_time_since_posted_test = y_time_since_posted_test.apply(extract_numerical_value)\n"
   ]
  },
  {
   "cell_type": "code",
   "execution_count": null,
   "id": "7f7cb290",
   "metadata": {
    "colab": {
     "base_uri": "https://localhost:8080/"
    },
    "execution": {
     "iopub.execute_input": "2023-05-21T19:10:00.252273Z",
     "iopub.status.busy": "2023-05-21T19:10:00.251818Z",
     "iopub.status.idle": "2023-05-21T19:10:00.269920Z",
     "shell.execute_reply": "2023-05-21T19:10:00.268158Z"
    },
    "id": "7f7cb290",
    "outputId": "b1dcdcfd-0b33-42f7-a216-e4fe686943f3",
    "papermill": {
     "duration": 0.041845,
     "end_time": "2023-05-21T19:10:00.274159",
     "exception": false,
     "start_time": "2023-05-21T19:10:00.232314",
     "status": "completed"
    },
    "tags": []
   },
   "outputs": [],
   "source": [
    "# Train a model to predict the time since posted\n",
    "time_since_posted_model = LinearRegression()\n",
    "time_since_posted_model.fit(X_train_encoded, y_time_since_posted_train)\n",
    "time_since_posted_predictions = time_since_posted_model.predict(X_test_encoded)\n",
    "time_since_posted_mse = mean_squared_error(y_time_since_posted_test, time_since_posted_predictions)\n",
    "print(\"Mean Squared Error (Time Since Posted):\", time_since_posted_mse)"
   ]
  }
 ],
 "metadata": {
  "colab": {
   "provenance": []
  },
  "kernelspec": {
   "display_name": "Python 3 (ipykernel)",
   "language": "python",
   "name": "python3"
  },
  "language_info": {
   "codemirror_mode": {
    "name": "ipython",
    "version": 3
   },
   "file_extension": ".py",
   "mimetype": "text/x-python",
   "name": "python",
   "nbconvert_exporter": "python",
   "pygments_lexer": "ipython3",
   "version": "3.11.3"
  },
  "papermill": {
   "default_parameters": {},
   "duration": 22.666225,
   "end_time": "2023-05-21T19:10:01.609123",
   "environment_variables": {},
   "exception": null,
   "input_path": "__notebook__.ipynb",
   "output_path": "__notebook__.ipynb",
   "parameters": {},
   "start_time": "2023-05-21T19:09:38.942898",
   "version": "2.4.0"
  }
 },
 "nbformat": 4,
 "nbformat_minor": 5
}
